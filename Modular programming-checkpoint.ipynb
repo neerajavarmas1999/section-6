{
 "cells": [
  {
   "cell_type": "code",
   "execution_count": 2,
   "id": "36ec804e",
   "metadata": {},
   "outputs": [
    {
     "name": "stdout",
     "output_type": "stream",
     "text": [
      "Do you wish to add (A) or remove (R) a dress?A\n",
      "Please enter a new dress size12\n",
      "Stock =  [12]\n",
      "Do you wish to add (A) or remove (R) a dress?A\n",
      "Please enter a new dress size14\n",
      "Stock =  [12, 14]\n",
      "Do you wish to add (A) or remove (R) a dress?A\n",
      "Please enter a new dress size20\n",
      "Stock =  [12, 14, 20]\n",
      "Do you wish to add (A) or remove (R) a dress?A\n",
      "Please enter a new dress size43\n",
      "Stock =  [12, 14, 20, 43]\n",
      "Do you wish to add (A) or remove (R) a dress?A\n",
      "Please enter a new dress size52\n",
      "Stock =  [12, 14, 20, 43, 52]\n",
      "Do you wish to add (A) or remove (R) a dress?R\n",
      "Please enter a new dress size14\n",
      "Stock =  [12, 20, 43, 52]\n",
      "Do you wish to add (A) or remove (R) a dress?A\n",
      "Please enter a new dress size30\n",
      "Stock =  [12, 20, 43, 52, 30]\n",
      "Do you wish to add (A) or remove (R) a dress?A\n",
      "Please enter a new dress size41\n",
      "Stock =  [12, 20, 43, 52, 30, 41]\n",
      "Do you wish to add (A) or remove (R) a dress?A\n",
      "Please enter a new dress size999\n",
      "Enter a dress size to count:12\n",
      "There are 1 size 12 dresses in stock\n",
      "The largest dress in stock is size 52\n",
      "The smallest dress in stock is size 12\n"
     ]
    }
   ],
   "source": [
    "#63\n",
    "def number(value1,value2):\n",
    "    count = 0\n",
    "    for loop in range(len(value2)):\n",
    "        if  value2[loop] == value1:\n",
    "            count += 1\n",
    "    return count\n",
    "dresses = []\n",
    "size = 0\n",
    "while size !=999:\n",
    "    choice = str(input(\"Do you wish to add (A) or remove (R) a dress?\"))\n",
    "    while not(choice==\"A\" or choice==\"R\"):\n",
    "        choice = str(input(\"Please enter only A or R\"))\n",
    "    size = int(input(\"Please enter a new dress size\"))\n",
    "    if size !=999:\n",
    "        if choice == \"A\":\n",
    "            dresses.append(size)\n",
    "        else:\n",
    "            dresses.remove(size)\n",
    "        print(\"Stock = \",dresses)\n",
    "selected = int(input((\"Enter a dress size to count:\")))\n",
    "numDress = number(selected,dresses)\n",
    "print(\"There are\",numDress,\"size\",selected,\"dresses in stock\")\n",
    "print(\"The largest dress in stock is size\",max(dresses))\n",
    "print(\"The smallest dress in stock is size\",min(dresses))"
   ]
  },
  {
   "cell_type": "code",
   "execution_count": 3,
   "id": "b08c402f",
   "metadata": {},
   "outputs": [
    {
     "name": "stdout",
     "output_type": "stream",
     "text": [
      "How many charity raisers were there?3\n",
      "Enter the total raised by each.\n",
      "321\n",
      "417\n",
      "500\n",
      "A total of $1238 was raised.\n",
      "The company will double the total to:\n",
      "$2476!!!\n",
      "$2476!!!\n",
      "$2476!!!\n"
     ]
    }
   ],
   "source": [
    "#64\n",
    "def charity1(values):\n",
    "    total = 0\n",
    "    print (\"Enter the total raised by each.\")\n",
    "    for loop1 in range(values):\n",
    "        money = int(input())\n",
    "        total = total + money\n",
    "    return total\n",
    "def charity2(totalRaised):\n",
    "    print (\"A total of $\"+str(totalRaised),\"was raised.\")\n",
    "    if totalRaised < 1000:\n",
    "        print (\"This final total raised is:\")\n",
    "        for loop2 in range(3):\n",
    "            print(\"$\"+str(totalRaised+100)+\"!!!\")\n",
    "    elif totalRaised >= 1000 and totalRaised <= 2000:\n",
    "        print (\"The company will double the total to:\")\n",
    "        for loop4 in range(3):\n",
    "            print(\"$\"+str(totalRaised*2)+\"!!!\")\n",
    "    else:\n",
    "        print (\"With the company bonus, this is:\")\n",
    "        for loop5 in range(3):\n",
    "            print(\"$\"+str(4000+totalRaised-2000)+\"!!!\")\n",
    "people = int(input(\"How many charity raisers were there?\"))\n",
    "total = charity1(people)\n",
    "charity2(total)\n"
   ]
  },
  {
   "cell_type": "code",
   "execution_count": 6,
   "id": "6eb45d23",
   "metadata": {},
   "outputs": [
    {
     "name": "stdout",
     "output_type": "stream",
     "text": [
      "What is the circumference of the wheel in millimetres.1250\n",
      "How many journeys do you wish to enter?3\n",
      "Journey 1\n",
      "How many wheel revolutions have taken place in your journey?8920\n",
      "How many minutes did you cycle for?30\n",
      "Journey 2\n",
      "How many wheel revolutions have taken place in your journey?10299\n",
      "How many minutes did you cycle for?40\n",
      "Journey 3\n",
      "How many wheel revolutions have taken place in your journey?4920\n",
      "How many minutes did you cycle for?26\n",
      "You covered 30.17 km.\n",
      "At an average speed of 18.86 kmph.\n"
     ]
    }
   ],
   "source": [
    "#65\n",
    "def function1(rev1,circum):\n",
    "    dis = (circum*sum(rev1))/1000/1000\n",
    "    return dis\n",
    "def function2(dis,minutes):\n",
    "    time = sum(minutes)/60\n",
    "    speed = dis/time\n",
    "    return speed\n",
    "rev1 = []\n",
    "minutes = []\n",
    "circum = int(input(\"What is the circumference of the wheel in millimetres.\"))\n",
    "journeys = int(input(\"How many journeys do you wish to enter?\"))\n",
    "for loop in range(journeys):\n",
    "    print(\"Journey\",loop+1)\n",
    "    rev2 = int(input(\"How many wheel revolutions have taken place in your journey?\"))\n",
    "    rev1.append(rev2)\n",
    "    mins = int(input(\"How many minutes did you cycle for?\"))\n",
    "    minutes.append(mins)\n",
    "dis = function1(rev1,circum)\n",
    "speed = function2(dis,minutes)\n",
    "print (\"You covered\",round(dis,2),\"km.\")\n",
    "print (\"At an average speed of\",round(speed,2),\"kmph.\")"
   ]
  },
  {
   "cell_type": "code",
   "execution_count": 8,
   "id": "77389620",
   "metadata": {},
   "outputs": [
    {
     "name": "stdout",
     "output_type": "stream",
     "text": [
      "Please enter the number of weeds counted at 1,1:3\n",
      "Please enter the number of weeds counted at 1,2:0\n",
      "Please enter the number of weeds counted at 1,3:2\n",
      "Please enter the number of weeds counted at 1,4:2\n",
      "Please enter the number of weeds counted at 1,5:0\n",
      "Please enter the number of weeds counted at 2,1:0\n",
      "Please enter the number of weeds counted at 2,2:0\n",
      "Please enter the number of weeds counted at 2,3:0\n",
      "Please enter the number of weeds counted at 2,4:3\n",
      "Please enter the number of weeds counted at 2,5:2\n",
      "Please enter the number of weeds counted at 3,1:0\n",
      "Please enter the number of weeds counted at 3,2:10\n",
      "Please enter the number of weeds counted at 3,3:6\n",
      "Please enter the number of weeds counted at 3,4:5\n",
      "Please enter the number of weeds counted at 3,5:0\n",
      "Please enter the number of weeds counted at 4,1:1\n",
      "Please enter the number of weeds counted at 4,2:1\n",
      "Please enter the number of weeds counted at 4,3:2\n",
      "Please enter the number of weeds counted at 4,4:2\n",
      "Please enter the number of weeds counted at 4,5:7\n",
      "Please enter the number of weeds counted at 5,1:0\n",
      "Please enter the number of weeds counted at 5,2:0\n",
      "Please enter the number of weeds counted at 5,3:5\n",
      "Please enter the number of weeds counted at 5,4:3\n",
      "Please enter the number of weeds counted at 5,5:2\n",
      "3  0  2  2  0  \n",
      "0  0  0  3  2  \n",
      "0  10  6  5  0  \n",
      "1  1  2  2  7  \n",
      "0  0  5  3  2  \n",
      "The total number of weeds found was - 56\n",
      "We would advise that your lawn is dug up and re-laid.\n"
     ]
    }
   ],
   "source": [
    "#66\n",
    "def function1(value):\n",
    "    total = 0\n",
    "    for loop1 in range(5):\n",
    "        for loop2 in range(5):\n",
    "            total = total + value[loop1][loop2]\n",
    "    return total\n",
    "def function2(value,total):\n",
    "    for loop3 in range(5):\n",
    "        for loop4 in range(5):\n",
    "            print(quadrat[loop3][loop4],\"\",end=' ')\n",
    "        print()\n",
    "    print(\"The total number of weeds found was -\",total)\n",
    "    if total < 2:\n",
    "        print(\"You have a great, well looked after lawn.\")\n",
    "    elif total >= 2 and total <=10:\n",
    "        print(\"A bit of light weeding will help your lawn look great.\")\n",
    "    elif total > 10 and total <50:\n",
    "        print(\"Your lawn should be treated with an environmentally friendly weed killer.\")\n",
    "    elif total >= 50:\n",
    "        print(\"We would advise that your lawn is dug up and re-laid.\")\n",
    "quadrat = [[0] * 5 for loop in range(5)]\n",
    "for loop5 in range(5):\n",
    "    for loop6 in range(5):\n",
    "        quadrat[loop5][loop6] = int(input(\"Please enter the number of weeds counted at \"+str(loop5+1)+\",\"+str(loop6+1)+\":\"))\n",
    "totalweed = function1(quadrat)\n",
    "function2(quadrat,totalweed)"
   ]
  },
  {
   "cell_type": "code",
   "execution_count": 11,
   "id": "2fc0b9cb",
   "metadata": {},
   "outputs": [
    {
     "name": "stdout",
     "output_type": "stream",
     "text": [
      "Please enter your word:music\n",
      "Your password is:\n",
      "suimc\n"
     ]
    }
   ],
   "source": [
    "#67\n",
    "import random\n",
    "def function1(word):\n",
    "    for loop in range(10):\n",
    "        position = random.randint(0,len(word)-1)\n",
    "        removed = word[position]\n",
    "        word = word[:position] + word[position+1:] + removed\n",
    "    return word\n",
    "startingText = str(input(\"Please enter your word:\"))\n",
    "combination = random.randint(1,3)\n",
    "password=function1(startingText)\n",
    "print(\"Your password is:\")\n",
    "print(password)"
   ]
  },
  {
   "cell_type": "code",
   "execution_count": null,
   "id": "83e0c35d",
   "metadata": {},
   "outputs": [],
   "source": []
  }
 ],
 "metadata": {
  "kernelspec": {
   "display_name": "Python 3",
   "language": "python",
   "name": "python3"
  },
  "language_info": {
   "codemirror_mode": {
    "name": "ipython",
    "version": 3
   },
   "file_extension": ".py",
   "mimetype": "text/x-python",
   "name": "python",
   "nbconvert_exporter": "python",
   "pygments_lexer": "ipython3",
   "version": "3.8.8"
  }
 },
 "nbformat": 4,
 "nbformat_minor": 5
}
